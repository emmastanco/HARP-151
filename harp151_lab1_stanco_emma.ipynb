{
 "cells": [
  {
   "cell_type": "markdown",
   "id": "2a95e636",
   "metadata": {},
   "source": [
    "# Harp-151 Lab1 - Emma Stanco"
   ]
  },
  {
   "cell_type": "code",
   "execution_count": 18,
   "id": "1c58ff4e",
   "metadata": {},
   "outputs": [
    {
     "name": "stdout",
     "output_type": "stream",
     "text": [
      "{'apple': 5, 'chestnut': 8, 'gargoyle': 8, 'pandas': 6, 'sheep': 5, 'raptor': 6}\n"
     ]
    },
    {
     "data": {
      "text/plain": [
       "'chestnut'"
      ]
     },
     "execution_count": 18,
     "metadata": {},
     "output_type": "execute_result"
    }
   ],
   "source": [
    "#1\n",
    "word_list = [\"apple\", \"chestnut\", \"gargoyle\", \"pandas\", \"sheep\", \"raptor\"]\n",
    "len_list = []\n",
    "\n",
    "def letter_count():\n",
    "    for i in word_list:\n",
    "        len_list.append(len(i))      \n",
    "letter_count()\n",
    "\n",
    "dictionary_words = dict(zip(word_list, len_list))\n",
    "\n",
    "print(dictionary_words)\n",
    "\n",
    "max(dictionary_words,key=dictionary_words.get)"
   ]
  },
  {
   "cell_type": "code",
   "execution_count": 27,
   "id": "e9a1df75",
   "metadata": {},
   "outputs": [
    {
     "name": "stdout",
     "output_type": "stream",
     "text": [
      "{'monkey': 6, 'night': 5, 'quilt': 5, 'fighter': 7, 'popular': 7, 'umbrella': 8, 'donkey': 6}\n"
     ]
    },
    {
     "data": {
      "text/plain": [
       "'umbrella'"
      ]
     },
     "execution_count": 27,
     "metadata": {},
     "output_type": "execute_result"
    }
   ],
   "source": [
    "#2 \n",
    "\n",
    "#I couldn't figure out how to import a .txt file into python so i created a list \n",
    "words = [\"apple\",\"banana\",\"chameleon\",\"donkey\",\"elephant\",\"fighter\",\"giant\",\"hello\",\"igloo\",\"joking\",\"kangaroo\",\"laughter\",\"monkey\",\"night\",\"openness\",\"popular\",\"quilt\",\"rolling\",\"suave\",\"testing\",\"umbrella\",\"vascular\",\"washer\"]\n",
    "\n",
    "import random\n",
    "\n",
    "new_words = random.sample(words, 7)\n",
    "new_words\n",
    "\n",
    "len_list=[]\n",
    "\n",
    "def word_count():\n",
    "    for i in new_words:\n",
    "        len_list.append(len(i))\n",
    "word_count()\n",
    "\n",
    "dict_words=dict(zip(new_words,len_list))\n",
    "print(dict_words)\n",
    "max(dict_words,key=dict_words.get)"
   ]
  },
  {
   "cell_type": "code",
   "execution_count": 27,
   "id": "46071504",
   "metadata": {},
   "outputs": [
    {
     "name": "stdout",
     "output_type": "stream",
     "text": [
      "100\n",
      "dict_keys(['Alex', 'Ben', 'Carly', 'Danielle', 'Ethan', 'Frank', 'Gianna'])\n",
      "dict_values([100, 75, 90, 85, 92, 89, 83])\n",
      "{'Ben': 75, 'Carly': 90, 'Danielle': 85, 'Ethan': 92, 'Frank': 89, 'Gianna': 83, 'Harry': 87}\n"
     ]
    }
   ],
   "source": [
    "#3\n",
    "students_scores = {\"Alex\" : 100,\n",
    "             \"Ben\" : 75,\n",
    "             \"Carly\" : 90,\n",
    "             \"Danielle\" : 85,\n",
    "             \"Ethan\" : 92,\n",
    "             \"Frank\" : 89,\n",
    "             \"Gianna\" : 83}\n",
    "\n",
    "alex_score=students_scores.get(\"Alex\")\n",
    "print(alex_score)\n",
    "\n",
    "students= students_scores.keys()\n",
    "print(students)\n",
    "\n",
    "test_scores= students_scores.values()\n",
    "print(test_scores)\n",
    "\n",
    "harry_score = {\"Harry\": 87}\n",
    "students_scores.update(harry_score)\n",
    "\n",
    "students_scores.pop(\"Alex\")\n",
    "\n",
    "print(students_scores)"
   ]
  },
  {
   "cell_type": "code",
   "execution_count": 29,
   "id": "da9588cd",
   "metadata": {},
   "outputs": [
    {
     "name": "stdout",
     "output_type": "stream",
     "text": [
      "Your B-number is B00911254.\n",
      "You're taking 4 classes. You will earn 16 credits.\n",
      "You're doing great in math!\n",
      "You need to get some tutoring in science!\n",
      "You're doing great in art!\n",
      "You need to get some tutoring in history!\n",
      "['Abdul']\n"
     ]
    }
   ],
   "source": [
    "#4\n",
    "\n",
    "#have to start by creating a class called student, give it attributes that every student has, \n",
    "#create some functions for each attribute \n",
    "#create a way to give feedback about grades, maybe use a dictionary\n",
    "#add another class for a specific class \n",
    "#create methods for the specific class \n",
    "\n",
    "class Student:\n",
    "    def __init__(self, first_name, grade_dict, bnumber, classes):\n",
    "        self.first_name = first_name\n",
    "        self.grades = grade_dict\n",
    "        self.bnumber=bnumber\n",
    "        self.classes=classes\n",
    "    \n",
    "    def bnum(self):\n",
    "        print(f\"Your B-number is {self.bnumber}.\")\n",
    "    \n",
    "    def credits(self):\n",
    "        creds=self.classes*4\n",
    "        print(f\"You're taking {self.classes} classes. You will earn {creds} credits.\")\n",
    "\n",
    "    def check_grade(self):\n",
    "        for i in self.grades:\n",
    "            if self.grades[i] < 70:\n",
    "                print(f\"You need to get some tutoring in {i}!\")\n",
    "            else:\n",
    "                print(f\"You're doing great in {i}!\")\n",
    "\n",
    "class Child(Student):\n",
    "    def __init__(self, first_name, grade_dict, bnumber, classes, art_grade, art_list=[]):\n",
    "        super().__init__(first_name, grade_dict, bnumber, classes)\n",
    "        self.art_grade=art_grade\n",
    "        self.art_list=art_list\n",
    "    \n",
    "        \n",
    "    def add_art(self):\n",
    "        if self.art_grade > 85:\n",
    "            self.art_list.append(self.first_name)\n",
    "        print(self.art_list)\n",
    "            \n",
    "        \n",
    "Student001 = Child(\"Abdul\", {\"math\":85, \"science\": 60, \"art\": 88, \"history\": 34}, \"B00911254\", 4, 88)\n",
    "\n",
    "Student001.bnum()\n",
    "Student001.credits()\n",
    "Student001.check_grade()\n",
    "Student001.add_art()\n"
   ]
  },
  {
   "cell_type": "code",
   "execution_count": null,
   "id": "0a7f122f",
   "metadata": {},
   "outputs": [
    {
     "name": "stdout",
     "output_type": "stream",
     "text": [
      "Let's play Hangman!\n",
      "_____Guess a letter:e\n",
      "e\n",
      "Incorrect. Guess again.\n",
      "_____Guess a letter:r\n",
      "er\n",
      "Incorrect. Guess again.\n",
      "_____Guess a letter:a\n",
      "era\n",
      "Incorrect. Guess again.\n",
      "_____Guess a letter:o\n",
      "erao\n",
      "___ooGuess a letter:k\n",
      "eraok\n",
      "Incorrect. Guess again.\n",
      "___ooGuess a letter:i\n",
      "eraoki\n",
      "i__ooGuess a letter:g\n",
      "eraokig\n",
      "ig_ooGuess a letter:l\n",
      "eraokigl\n",
      "iglooYou win!\n"
     ]
    }
   ],
   "source": [
    "#5\n",
    "\n",
    "import random\n",
    "print(\"Let's play Hangman!\")\n",
    "words = [\"apple\",\"banana\",\"chameleon\",\"donkey\",\"elephant\",\"fighter\",\"giant\",\"hello\",\"igloo\",\"joking\",\"kangaroo\",\"laughter\",\"monkey\",\"night\",\"openness\",\"popular\",\"quilt\",\"rolling\",\"suave\",\"testing\",\"umbrella\",\"vascular\",\"washer\"]\n",
    "word = random.choice(words)\n",
    "guesses=\"\"\n",
    "turns=8\n",
    "\n",
    "while turns > 0:\n",
    "    failed = 0\n",
    "    for char in word:\n",
    "        if char in guesses:\n",
    "            print(char, end=\"\"),\n",
    "        else:\n",
    "            print(\"_\", end=\"\"),\n",
    "            failed+=1\n",
    "    if failed == 0:\n",
    "        print(\"You win!\")\n",
    "    \n",
    "    guess = input(\"Guess a letter:\")\n",
    "    guesses += guess \n",
    "    print(guesses)\n",
    "    \n",
    "    if guess not in word:\n",
    "        turns-=1\n",
    "        print(\"Incorrect. Guess again.\")\n",
    "        if turns == 0:\n",
    "            print(\"Sorry, you lose :(\")"
   ]
  },
  {
   "cell_type": "code",
   "execution_count": null,
   "id": "ddeb93f3",
   "metadata": {},
   "outputs": [],
   "source": []
  }
 ],
 "metadata": {
  "kernelspec": {
   "display_name": "Python 3 (ipykernel)",
   "language": "python",
   "name": "python3"
  },
  "language_info": {
   "codemirror_mode": {
    "name": "ipython",
    "version": 3
   },
   "file_extension": ".py",
   "mimetype": "text/x-python",
   "name": "python",
   "nbconvert_exporter": "python",
   "pygments_lexer": "ipython3",
   "version": "3.9.12"
  }
 },
 "nbformat": 4,
 "nbformat_minor": 5
}
