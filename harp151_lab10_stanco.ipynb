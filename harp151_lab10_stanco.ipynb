{
 "cells": [
  {
   "cell_type": "code",
   "execution_count": 1,
   "id": "8c5a5177",
   "metadata": {},
   "outputs": [],
   "source": [
    "from tkinter import *\n",
    "import requests\n",
    "import tkinter as tk\n",
    "#had some trouble, so I looked online for help and found the tk method easier to follow \n",
    "\n",
    "response = requests.get(\"https://api.quotable.io/quotes/random?limit=7\")\n",
    "quotes = response.json()\n",
    "\n",
    "window = tk.Tk()\n",
    "window.title(\"Quote Generator\")\n",
    "\n",
    "label = tk.Label(window, text=\"Choose an author:\")\n",
    "\n",
    "var = tk.StringVar(window)\n",
    "var.set(\"Select an author\")\n",
    "dropdown = tk.OptionMenu(window, var, *[quote[\"author\"] for quote in quotes])\n",
    "\n",
    "def display_quote():\n",
    "    chosen_author = var.get()\n",
    "    if chosen_author != \"Select an author\":\n",
    "        chosen_quote = [quote for quote in quotes if quote[\"author\"] == chosen_author][0]\n",
    "        label.config(text=chosen_quote[\"content\"])\n",
    "\n",
    "button = tk.Button(window, text=\"Get quote\", command=display_quote)\n",
    "\n",
    "label.pack()\n",
    "dropdown.pack()\n",
    "button.pack()\n",
    "\n",
    "window.mainloop()\n",
    "\n",
    "#i couldn't figure out how to get a new list of authors "
   ]
  },
  {
   "cell_type": "code",
   "execution_count": 2,
   "id": "3c8227dc",
   "metadata": {},
   "outputs": [],
   "source": [
    "import tkinter as tk\n",
    "import requests\n",
    "from tkinter import *\n",
    "\n",
    "response = requests.get(\"https://api.weather.gov/gridpoints/SEW/124,64/forecast\")\n",
    "data = response.json()\n",
    "\n",
    "forecast = data[\"properties\"][\"periods\"][:7]\n",
    "\n",
    "window = tk.Tk()\n",
    "window.title(\"7 Day Weather Forecast\")\n",
    "\n",
    "for i in range(7):\n",
    "    day_label = tk.Label(window, text=forecast[i][\"name\"] + \": \" + forecast[i][\"detailedForecast\"])\n",
    "    day_label.pack()\n",
    "\n",
    "window.mainloop()"
   ]
  },
  {
   "cell_type": "code",
   "execution_count": null,
   "id": "501f693b",
   "metadata": {},
   "outputs": [],
   "source": []
  }
 ],
 "metadata": {
  "kernelspec": {
   "display_name": "Python 3 (ipykernel)",
   "language": "python",
   "name": "python3"
  },
  "language_info": {
   "codemirror_mode": {
    "name": "ipython",
    "version": 3
   },
   "file_extension": ".py",
   "mimetype": "text/x-python",
   "name": "python",
   "nbconvert_exporter": "python",
   "pygments_lexer": "ipython3",
   "version": "3.9.12"
  }
 },
 "nbformat": 4,
 "nbformat_minor": 5
}
