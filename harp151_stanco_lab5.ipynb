{
 "cells": [
  {
   "cell_type": "markdown",
   "id": "7dbe58aa",
   "metadata": {},
   "source": [
    "# Harp151: Lab 5 \n",
    "Emma Stanco"
   ]
  },
  {
   "cell_type": "code",
   "execution_count": 2,
   "id": "cbaffdc3",
   "metadata": {},
   "outputs": [
    {
     "name": "stdout",
     "output_type": "stream",
     "text": [
      "Requirement already satisfied: selenium in /Users/emmastanco/opt/anaconda3/lib/python3.9/site-packages (4.8.2)\n",
      "Requirement already satisfied: trio~=0.17 in /Users/emmastanco/opt/anaconda3/lib/python3.9/site-packages (from selenium) (0.22.0)\n",
      "Requirement already satisfied: certifi>=2021.10.8 in /Users/emmastanco/opt/anaconda3/lib/python3.9/site-packages (from selenium) (2021.10.8)\n",
      "Requirement already satisfied: urllib3[socks]~=1.26 in /Users/emmastanco/opt/anaconda3/lib/python3.9/site-packages (from selenium) (1.26.9)\n",
      "Requirement already satisfied: trio-websocket~=0.9 in /Users/emmastanco/opt/anaconda3/lib/python3.9/site-packages (from selenium) (0.10.0)\n",
      "Requirement already satisfied: attrs>=19.2.0 in /Users/emmastanco/opt/anaconda3/lib/python3.9/site-packages (from trio~=0.17->selenium) (21.4.0)\n",
      "Requirement already satisfied: sniffio in /Users/emmastanco/opt/anaconda3/lib/python3.9/site-packages (from trio~=0.17->selenium) (1.2.0)\n",
      "Requirement already satisfied: idna in /Users/emmastanco/opt/anaconda3/lib/python3.9/site-packages (from trio~=0.17->selenium) (3.3)\n",
      "Requirement already satisfied: async-generator>=1.9 in /Users/emmastanco/opt/anaconda3/lib/python3.9/site-packages (from trio~=0.17->selenium) (1.10)\n",
      "Requirement already satisfied: sortedcontainers in /Users/emmastanco/opt/anaconda3/lib/python3.9/site-packages (from trio~=0.17->selenium) (2.4.0)\n",
      "Requirement already satisfied: outcome in /Users/emmastanco/opt/anaconda3/lib/python3.9/site-packages (from trio~=0.17->selenium) (1.2.0)\n",
      "Requirement already satisfied: exceptiongroup>=1.0.0rc9 in /Users/emmastanco/opt/anaconda3/lib/python3.9/site-packages (from trio~=0.17->selenium) (1.1.1)\n",
      "Requirement already satisfied: wsproto>=0.14 in /Users/emmastanco/opt/anaconda3/lib/python3.9/site-packages (from trio-websocket~=0.9->selenium) (1.2.0)\n",
      "Requirement already satisfied: PySocks!=1.5.7,<2.0,>=1.5.6 in /Users/emmastanco/opt/anaconda3/lib/python3.9/site-packages (from urllib3[socks]~=1.26->selenium) (1.7.1)\n",
      "Requirement already satisfied: h11<1,>=0.9.0 in /Users/emmastanco/opt/anaconda3/lib/python3.9/site-packages (from wsproto>=0.14->trio-websocket~=0.9->selenium) (0.14.0)\n"
     ]
    }
   ],
   "source": [
    "! pip install selenium #install selenium "
   ]
  },
  {
   "cell_type": "code",
   "execution_count": 23,
   "id": "77550415",
   "metadata": {},
   "outputs": [],
   "source": [
    "#import selenium & other open sources\n",
    "\n",
    "from selenium import webdriver\n",
    "from selenium.webdriver.chrome.service import Service\n",
    "from selenium.webdriver.common.keys import Keys\n",
    "from selenium.webdriver.common.by import By\n",
    "from selenium.webdriver.support.ui import WebDriverWait\n",
    "from selenium.webdriver.support import expected_conditions as EC\n",
    "import time\n",
    "from bs4 import BeautifulSoup\n",
    "import csv\n",
    "import pandas as pd"
   ]
  },
  {
   "cell_type": "code",
   "execution_count": 21,
   "id": "08795b44",
   "metadata": {},
   "outputs": [],
   "source": [
    "PATH = Service(\"C:/Users/emmastanco/Documents/HARP\\ 151/chromedriver\\chromedriver.exe\") \n",
    "#accessing chromedriver through file path \n",
    "\n",
    "driver = webdriver.Chrome(service=PATH)\n",
    "\n",
    "practice_site = \"https://techwithtim.net\" #naming link\n",
    "driver.get(practice_site) #opening link\n",
    "\n",
    "link = driver.find_element(By.LINK_TEXT, \"Python Programming\")\n",
    "link.click()\n",
    "\n",
    "#try clause delays program to prevent errors \n",
    "\n",
    "try:\n",
    "    element = WebDriverWait(driver, 10).until(  \n",
    "    EC.presence_of_element_located((By.LINK_TEXT, \"Beginner Python Tutorials\")) #locates main ID\n",
    "    )\n",
    "    element.click()\n",
    "    \n",
    "    element = WebDriverWait(driver, 10).until(  \n",
    "    EC.presence_of_element_located((By.ID, \"sow-button-19310003\")) #locates main ID\n",
    "    )\n",
    "    element.click()\n",
    "    \n",
    "    driver.back()\n",
    "    driver.back() # goes back 3 pages and goes forward 3 pages \n",
    "    driver.back()\n",
    "    driver.forward()\n",
    "    driver.forward()\n",
    "    \n",
    "except:\n",
    "        driver.quit()\n",
    "\n",
    "# main = driver.find_element(By.ID, \"main\") -- alternate way to isolate the main ID without try clause"
   ]
  },
  {
   "cell_type": "code",
   "execution_count": 28,
   "id": "db28c0b8",
   "metadata": {},
   "outputs": [
    {
     "name": "stdout",
     "output_type": "stream",
     "text": [
      "<generator object <genexpr> at 0x7fa7c0488e40>\n"
     ]
    }
   ],
   "source": [
    "csv_file4 = open(\"Wiki.csv\", \"w\", newline=\"\", encoding=\"utf-8\")\n",
    "csv_writer = csv.writer(csv_file4)\n",
    "csv_writer.writerow((\"URL\",\"\"))\n",
    "\n",
    "PATH2 = Service(\"C:/Users/emmastanco/Documents/HARP\\ 151/chromedriver\\chromedriver.exe\")\n",
    "\n",
    "driver = webdriver.Chrome(service=PATH2)\n",
    "\n",
    "driver.get(\"https://www.wikipedia.org/\") # link\n",
    "\n",
    "search = driver.find_element(By.NAME, 'search')\n",
    "search.send_keys(\"cat\")\n",
    "search.send_keys(Keys.RETURN)\n",
    "\n",
    "html = driver.page_source\n",
    "soup = BeautifulSoup(html, \"html.parser\")\n",
    "\n",
    "image_tags = soup.find_all(\"img\")\n",
    "image_urls = (tag(\"src\") for tag in image_tags)\n",
    "print (image_urls)\n",
    "driver.quit()\n",
    "csv_writer.writerow([driver])\n",
    "csv_file4.close()"
   ]
  },
  {
   "cell_type": "code",
   "execution_count": null,
   "id": "76bd02f9",
   "metadata": {},
   "outputs": [],
   "source": []
  }
 ],
 "metadata": {
  "kernelspec": {
   "display_name": "Python 3 (ipykernel)",
   "language": "python",
   "name": "python3"
  },
  "language_info": {
   "codemirror_mode": {
    "name": "ipython",
    "version": 3
   },
   "file_extension": ".py",
   "mimetype": "text/x-python",
   "name": "python",
   "nbconvert_exporter": "python",
   "pygments_lexer": "ipython3",
   "version": "3.9.12"
  }
 },
 "nbformat": 4,
 "nbformat_minor": 5
}
